{
  "nbformat": 4,
  "nbformat_minor": 0,
  "metadata": {
    "anaconda-cloud": {},
    "kernelspec": {
      "display_name": "Python 3",
      "language": "python",
      "name": "python3"
    },
    "language_info": {
      "codemirror_mode": {
        "name": "ipython",
        "version": 3
      },
      "file_extension": ".py",
      "mimetype": "text/x-python",
      "name": "python",
      "nbconvert_exporter": "python",
      "pygments_lexer": "ipython3",
      "version": "3.8.0"
    },
    "colab": {
      "name": "svm.ipynb",
      "provenance": [],
      "collapsed_sections": []
    }
  },
  "cells": [
    {
      "cell_type": "markdown",
      "metadata": {
        "id": "1sq36OIazJ_O"
      },
      "source": [
        "# LINEAR SVM"
      ]
    },
    {
      "cell_type": "code",
      "metadata": {
        "ExecuteTime": {
          "end_time": "2020-09-05T06:48:08.461259Z",
          "start_time": "2020-09-05T06:48:07.913540Z"
        },
        "id": "tzP3IcCLzJ_S",
        "outputId": "7ee5f3a8-84bb-4aff-9af0-a26e91ebb234"
      },
      "source": [
        "import numpy as np\n",
        "import matplotlib.pyplot as plt\n",
        "import scipy.io as io\n",
        "import libsvm\n",
        "from libsvm.svmutil import *\n",
        "\n",
        "%matplotlib inline"
      ],
      "execution_count": null,
      "outputs": [
        {
          "name": "stderr",
          "output_type": "stream",
          "text": [
            "Matplotlib is building the font cache; this may take a moment.\n"
          ]
        }
      ]
    },
    {
      "cell_type": "markdown",
      "metadata": {
        "id": "z5cEyphIzJ_U"
      },
      "source": [
        "## 3.1 Linear Support Vector Machine on toy data"
      ]
    },
    {
      "cell_type": "markdown",
      "metadata": {
        "id": "SZBHU-_zzJ_V"
      },
      "source": [
        "### 3.1.1 \n",
        "Generate a training set of size $100$ with 2D features (X) drawn at random as follows:\n",
        "* X_{neg} $\\sim$ $\\mathcal{N}$([-5, -5], 5*$I_2$) and correspond to negative labels (-1)\n",
        "* X_{pos} $\\sim$ $\\mathcal{N}$([5, 5], 5*$I_2$) and correspond to positive labels (+1)\n",
        "<br />\n",
        "Accordingly, $X = [X_{neg}, X_{pos}]$ is a $100\\times2$ array, Y is a $100\\times1$ array of values $\\in \\{-1, 1\\}$.\n",
        "<p/>Draw a scatter plot of the full training dataset with the points colored according to their labels."
      ]
    },
    {
      "cell_type": "code",
      "metadata": {
        "ExecuteTime": {
          "end_time": "2020-09-05T06:48:09.464223Z",
          "start_time": "2020-09-05T06:48:09.284799Z"
        },
        "id": "PxTgF6nGzJ_W"
      },
      "source": [
        "# Generate binary class dataset\n",
        "np.random.seed(0)\n",
        "\n",
        "n_samples = 100\n",
        "center_1 = [-5, -5]\n",
        "center_2 = [5, 5]\n",
        "\n",
        "# Generate Data:\n",
        "Xneg = \n",
        "Xpos = \n",
        "X = \n",
        "Y = \n",
        "\n",
        "# Scatter plot:\n"
      ],
      "execution_count": null,
      "outputs": []
    },
    {
      "cell_type": "markdown",
      "metadata": {
        "id": "xh0yJd6JzJ_W"
      },
      "source": [
        "### 3.1.2 \n",
        "Train a linear support vector machine on the data with $C=1$ and draw the decision boundary line that separates o and x. Mark the support vectors separately (ex.circle around the point). \n",
        "\n",
        "Note: You can use the libsvm.svmutil functions with the kernel_type set to 0, indiciating a linear kernel and svm_type set to 0 indicating C-SVC.\n",
        "Also note that the support_vector coefficients returned by the LIBSVM model are the dual coefficients."
      ]
    },
    {
      "cell_type": "code",
      "metadata": {
        "ExecuteTime": {
          "end_time": "2020-09-05T06:53:56.653252Z",
          "start_time": "2020-09-05T06:53:56.408968Z"
        },
        "id": "wcmfF5D1zJ_Y"
      },
      "source": [
        "# Define the SVM problem\n",
        "\n",
        "# Define the hyperparameters\n",
        "\n",
        "# Train the model\n",
        "\n",
        "# Compute the slope and intercept of the separating line/hyperplanee with the use of the support vectors\n",
        "# and other information from the LIBSVM model.\n",
        "\n",
        "# Draw the scatter plot, the decision boundary line, and mark the support vectors."
      ],
      "execution_count": null,
      "outputs": []
    },
    {
      "cell_type": "markdown",
      "metadata": {
        "ExecuteTime": {
          "end_time": "2020-09-05T00:40:02.321601Z",
          "start_time": "2020-09-05T00:40:02.312975Z"
        },
        "id": "tcK72JLGzJ_Z"
      },
      "source": [
        "### 3.1.3 \n",
        "Draw a line that separates the data for 8 different $C$ ($10^{-5}$~$10^7$).\n",
        "Plot the number of support vectors vs. $C$ (plot x-axis on a log scale).\n",
        "How does the number of support vectors change as $C$ increases and why does it change like that? \n",
        "\n",
        "Note: You might prefer to use the command-line style of svm_parameter initialization such as: svm_parameter('-s 0 -t 0') to indicate a linear kernel and C-SVC as the SVM type.\n"
      ]
    },
    {
      "cell_type": "code",
      "metadata": {
        "ExecuteTime": {
          "end_time": "2020-09-05T07:05:20.422986Z",
          "start_time": "2020-09-05T07:05:13.508937Z"
        },
        "id": "r_ePTq5BzJ_a"
      },
      "source": [
        "\n",
        "C_range = [10**-5, 10**-3, 1, 10, 100, 10**3, 10**5, 10**7]\n",
        "num_sv = []\n",
        "\n",
        "# Loop over a similar setup to that in the previous code block.\n",
        "\n",
        "# Draw the scatter plot with multiple decision lines on top (one for each value of C)\n",
        "\n",
        "# Draw the num_sv vs. C plot."
      ],
      "execution_count": null,
      "outputs": []
    },
    {
      "cell_type": "markdown",
      "metadata": {
        "id": "PBLfyaw3zJ_a"
      },
      "source": [
        "### 3.1.4 \n",
        "Now try rescaling the data to the [0,1] range and repeat the steps of the previous question (3.1.3) and over the same range of $C$ values. Are the decision boundaries different from those in the previous question? What does this imply about (a) the geometric margin and (b) the relative effect of each feature on the predictions of the trained model ?"
      ]
    },
    {
      "cell_type": "markdown",
      "metadata": {
        "id": "NM3PvMHbzJ_b"
      },
      "source": [
        "#### Solution below: \n",
        "SVM tries to maximize the distance between the separating plane and the support vectors. \n",
        "If one feature (i.e. one dimension in this space) has very large values, \n",
        "it will dominate the other features when calculating the distance. If you rescale all \n",
        "features (e.g. to [0, 1]), they all have the same influence on the distance metric.\n",
        "\n"
      ]
    },
    {
      "cell_type": "code",
      "metadata": {
        "ExecuteTime": {
          "end_time": "2020-09-05T07:06:49.729412Z",
          "start_time": "2020-09-05T07:06:49.223419Z"
        },
        "id": "--Mwyl09zJ_b"
      },
      "source": [
        "import sklearn\n",
        "from sklearn import preprocessing\n",
        "min_max_scaler = preprocessing.MinMaxScaler()\n",
        "\n",
        "# Single line below:\n",
        "X_train_minmax = "
      ],
      "execution_count": null,
      "outputs": []
    },
    {
      "cell_type": "code",
      "metadata": {
        "ExecuteTime": {
          "end_time": "2020-09-05T07:06:50.906854Z",
          "start_time": "2020-09-05T07:06:50.047333Z"
        },
        "id": "I6G8ZlzBzJ_c"
      },
      "source": [
        "\n",
        "C_range = [10**-5, 10**-3, 1, 10, 100, 10**3, 10**5, 10**7]\n",
        "num_sv = []\n",
        "\n",
        "# Repeat the loop from 3.1.3\n"
      ],
      "execution_count": null,
      "outputs": []
    },
    {
      "cell_type": "markdown",
      "metadata": {
        "ExecuteTime": {
          "end_time": "2016-12-16T00:41:47.969602",
          "start_time": "2016-12-16T00:41:47.965010"
        },
        "id": "0JKQb2MrvtMS"
      },
      "source": [
        "## *Penguins*"
      ]
    },
    {
      "cell_type": "markdown",
      "metadata": {
        "collapsed": true,
        "id": "e1LsTwlTvtMS"
      },
      "source": [
        "\n",
        "\n",
        "```\n",
        "# This is formatted as code\n",
        "```\n",
        "\n",
        "Multiclass SVM. In this problem, we will use support vector machines to classify penguins species based on the given features."
      ]
    },
    {
      "cell_type": "markdown",
      "metadata": {
        "id": "lUI6GKVbvtMT"
      },
      "source": [
        "### \n",
        "Load in the penguins data using from the provided penguins.csv file on Sakai. Preprocess the features. Then we will use the train_test_split from sklearn to split the data into training and testing into a 0.8 : 0.2 ratio."
      ]
    },
    {
      "cell_type": "code",
      "metadata": {
        "ExecuteTime": {
          "end_time": "2020-09-05T07:38:45.869430Z",
          "start_time": "2020-09-05T07:38:17.208394Z"
        },
        "scrolled": true,
        "id": "Ru6-AWdcvtMT"
      },
      "source": [
        "# load data\n",
        "\n",
        "# split data\n",
        "X_train, X_test, y_train, y_test = train_test_split(df.drop(['Species'], axis=1).to_numpy(), df['Species'].to_numpy(), test_size=0.2, random_state=1)"
      ],
      "execution_count": null,
      "outputs": []
    },
    {
      "cell_type": "markdown",
      "metadata": {
        "id": "Z59e1R49vtMV"
      },
      "source": [
        "Train the support vector machine classifier with a linear kernel on the first 5000 datapoints and test the accuracy on the following 5000 points.\n",
        "Plot test accuracy and the number of support vectors (two separate plots) vs. $C$ for $C=10^{-12}$~$10^{12}$ (plot 7 points or more with the x-axis on a log scale). "
      ]
    },
    {
      "cell_type": "code",
      "metadata": {
        "ExecuteTime": {
          "end_time": "2020-09-05T08:13:41.585732Z",
          "start_time": "2020-09-05T08:10:29.068046Z"
        },
        "id": "fKrQANMuvtMV"
      },
      "source": [
        "C_range = [10**-12, 10**-7, 10**-3, 1, 10**3, 10**7, 10**12]"
      ],
      "execution_count": null,
      "outputs": []
    },
    {
      "cell_type": "markdown",
      "metadata": {
        "id": "vTMBnAeKurqK"
      },
      "source": [
        "Calculate variable importance (CulmenLength, CulmenDepth, FlipperLength, BodyMass) with your classifier. Rank these variables/ features from most important to the least important. Utilize three strategies covered in the class:\n",
        "* model reliance\n",
        "* conditional model reliance\n",
        "* algorithm reliance\n",
        "\n",
        "Do all three give the same result?\n"
      ]
    },
    {
      "cell_type": "code",
      "metadata": {
        "id": "ibxrBChtusYM"
      },
      "source": [
        ""
      ],
      "execution_count": null,
      "outputs": []
    }
  ]
}
